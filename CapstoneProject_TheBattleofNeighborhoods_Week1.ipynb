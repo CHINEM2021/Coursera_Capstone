{
 "cells": [
  {
   "cell_type": "markdown",
   "metadata": {},
   "source": [
    "# 1st Weeek"
   ]
  },
  {
   "cell_type": "markdown",
   "metadata": {},
   "source": [
    "## 1. A description of the problem and a discussion of the background."
   ]
  },
  {
   "cell_type": "markdown",
   "metadata": {},
   "source": [
    "#### Problem Statement: Bayan Lepas has a lot of restaurants opened recently. A seafood supplier from Bayan Lepas would like to know which type of asian cuisine restaurant is the most popular in Byan Lepas so he can prepare his seafood to the most popular asia cuisine restaurant , who will be his customer. From his research, Japanese, Korea and  HongKong are the most popular restaurant in Bayan Lepas. He would like to know which of them is the most popular in Bayan Lepas and compare them with another neighbor district as reference. \n",
    "\n",
    "#### Target Audience: A seafood supplier"
   ]
  },
  {
   "cell_type": "markdown",
   "metadata": {},
   "source": [
    "## 2. A description of the data and how it will be used to solve the problem"
   ]
  },
  {
   "cell_type": "markdown",
   "metadata": {},
   "source": [
    "#### Use foursquare location to find out the highest number of restaurants among Japanese, Hong Kong and Korea Restaurants located in Bayan Lepas, Penang Malaysia and compare these three type restaurants with neigouring district in Penang Malaysia to observe whether the trend is similar or not. "
   ]
  },
  {
   "cell_type": "markdown",
   "metadata": {},
   "source": [
    "#### Data from foursquare with features will be used:\n",
    "#### 1. Location\n",
    "#### 2. Key word to search target restaurant ( e.g Japan, Korea, HongKong)\n",
    "#### 3. Cout of restaurant\n",
    "#### 4. District"
   ]
  },
  {
   "cell_type": "code",
   "execution_count": null,
   "metadata": {},
   "outputs": [],
   "source": []
  },
  {
   "cell_type": "code",
   "execution_count": null,
   "metadata": {},
   "outputs": [],
   "source": []
  }
 ],
 "metadata": {
  "kernelspec": {
   "display_name": "Python 3",
   "language": "python",
   "name": "python3"
  },
  "language_info": {
   "codemirror_mode": {
    "name": "ipython",
    "version": 3
   },
   "file_extension": ".py",
   "mimetype": "text/x-python",
   "name": "python",
   "nbconvert_exporter": "python",
   "pygments_lexer": "ipython3",
   "version": "3.7.6"
  }
 },
 "nbformat": 4,
 "nbformat_minor": 4
}
