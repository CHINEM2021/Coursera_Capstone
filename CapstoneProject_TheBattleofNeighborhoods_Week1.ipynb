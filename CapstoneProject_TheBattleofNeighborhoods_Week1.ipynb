{
 "cells": [
  {
   "cell_type": "markdown",
   "metadata": {},
   "source": [
    "# 1st Weeek"
   ]
  },
  {
   "cell_type": "markdown",
   "metadata": {},
   "source": [
    "## 1. A description of the problem and a discussion of the background."
   ]
  },
  {
   "cell_type": "markdown",
   "metadata": {},
   "source": [
    "#### Problem Statement: Bayan Lepas has a lot of restaurants running in business. Japanese, Korea and  HongKong are the most popular restaurants in Bayan Lepas. A seafood supplier from Bayan Lepas would like to know which type of asian cuisine restaurant is the most popular in Bayan Lepas so he can supply his processed seafood according to popularity. \n",
    "\n",
    "#### Target Audience: A seafood supplier who want to know the most popular restaurants in Bayan Lepas"
   ]
  },
  {
   "cell_type": "markdown",
   "metadata": {},
   "source": [
    "## 2. A description of the data and how it will be used to solve the problem"
   ]
  },
  {
   "cell_type": "markdown",
   "metadata": {},
   "source": [
    "#### To provide the information to the target audiece, i will use foursquare API to collect location data to find out the highest number of restaurants among Japanese, Hong Kong and Korea Restaurants located in Bayan Lepas, Penang Malaysia."
   ]
  },
  {
   "cell_type": "markdown",
   "metadata": {},
   "source": [
    "#### Main data source used will be data from foursquare to analyze existing restaurant in Bayan Lepas.\n",
    "#### 1. Location\n",
    "#### 2. Restaurant profile ( e.g Japan, Korea, HongKong)\n",
    "#### 3.Total Cout of restaurants by profile\n"
   ]
  },
  {
   "cell_type": "code",
   "execution_count": null,
   "metadata": {},
   "outputs": [],
   "source": []
  },
  {
   "cell_type": "code",
   "execution_count": null,
   "metadata": {},
   "outputs": [],
   "source": []
  }
 ],
 "metadata": {
  "kernelspec": {
   "display_name": "Python 3",
   "language": "python",
   "name": "python3"
  },
  "language_info": {
   "codemirror_mode": {
    "name": "ipython",
    "version": 3
   },
   "file_extension": ".py",
   "mimetype": "text/x-python",
   "name": "python",
   "nbconvert_exporter": "python",
   "pygments_lexer": "ipython3",
   "version": "3.7.6"
  }
 },
 "nbformat": 4,
 "nbformat_minor": 4
}
